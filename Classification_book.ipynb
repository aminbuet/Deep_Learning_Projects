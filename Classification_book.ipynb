{
  "nbformat": 4,
  "nbformat_minor": 0,
  "metadata": {
    "colab": {
      "name": "Classification_book.ipynb",
      "provenance": [],
      "collapsed_sections": [],
      "authorship_tag": "ABX9TyMEuU7UFhxol5Yv75g+2Gzf",
      "include_colab_link": true
    },
    "kernelspec": {
      "name": "python3",
      "display_name": "Python 3"
    }
  },
  "cells": [
    {
      "cell_type": "markdown",
      "metadata": {
        "id": "view-in-github",
        "colab_type": "text"
      },
      "source": [
        "<a href=\"https://colab.research.google.com/github/aminbuet/Deep_Learning_Projects/blob/master/Classification_book.ipynb\" target=\"_parent\"><img src=\"https://colab.research.google.com/assets/colab-badge.svg\" alt=\"Open In Colab\"/></a>"
      ]
    },
    {
      "cell_type": "code",
      "metadata": {
        "id": "4gtOVqeXY2QF",
        "colab_type": "code",
        "outputId": "23cec5b4-686a-4374-b7e8-c7039ac78dc6",
        "colab": {
          "base_uri": "https://localhost:8080/",
          "height": 68
        }
      },
      "source": [
        "import tensorflow as tf\n",
        "from tensorflow import keras\n",
        "import matplotlib.pyplot as plt\n",
        "import numpy as np\n",
        "\n",
        "#check status of system\n",
        "print(\"Version: \" , tf.__version__)\n",
        "print(\"Eager Mode: \", tf.executing_eagerly())\n",
        "print(\"GPU is\", \"available\" if tf.config.list_physical_devices('GPU') else \"Not Available\")"
      ],
      "execution_count": 0,
      "outputs": [
        {
          "output_type": "stream",
          "text": [
            "Version:  2.2.0-rc2\n",
            "Eager Mode:  True\n",
            "GPU is Not Available\n"
          ],
          "name": "stdout"
        }
      ]
    },
    {
      "cell_type": "code",
      "metadata": {
        "id": "2P82U-faacUo",
        "colab_type": "code",
        "colab": {}
      },
      "source": [
        "# load data and split train & test set\n",
        "fashion_mnist = tf.keras.datasets.fashion_mnist\n",
        "#X_train, y_train), (X_test, y_test) = fashion_mnist.load_data()\n",
        "(train_images, train_labels), (test_images, test_labels) = fashion_mnist.load_data()"
      ],
      "execution_count": 0,
      "outputs": []
    },
    {
      "cell_type": "code",
      "metadata": {
        "id": "PfNaxIFYqPsi",
        "colab_type": "code",
        "colab": {}
      },
      "source": [
        "class_names = ['T-shirt/top', 'Trouser', 'Pullover', 'Dress', 'Coat',\n",
        "               'Sandal', 'Shirt', 'Sneaker', 'Bag', 'Ankle boot']"
      ],
      "execution_count": 0,
      "outputs": []
    },
    {
      "cell_type": "code",
      "metadata": {
        "id": "-vwHFNZksPOf",
        "colab_type": "code",
        "outputId": "154ba60c-c0bc-4cfc-fc0a-aa801984a1c2",
        "colab": {
          "base_uri": "https://localhost:8080/",
          "height": 34
        }
      },
      "source": [
        "type(fashion_mnist)"
      ],
      "execution_count": 0,
      "outputs": [
        {
          "output_type": "execute_result",
          "data": {
            "text/plain": [
              "module"
            ]
          },
          "metadata": {
            "tags": []
          },
          "execution_count": 8
        }
      ]
    },
    {
      "cell_type": "code",
      "metadata": {
        "id": "9EeD4O8tsg8j",
        "colab_type": "code",
        "outputId": "eb5ad5ca-5144-4649-f82c-0af17ac18fc2",
        "colab": {
          "base_uri": "https://localhost:8080/",
          "height": 34
        }
      },
      "source": [
        "train_images.shape"
      ],
      "execution_count": 0,
      "outputs": [
        {
          "output_type": "execute_result",
          "data": {
            "text/plain": [
              "(60000, 28, 28)"
            ]
          },
          "metadata": {
            "tags": []
          },
          "execution_count": 9
        }
      ]
    },
    {
      "cell_type": "code",
      "metadata": {
        "id": "gY9hui6OslrQ",
        "colab_type": "code",
        "outputId": "28c25cfd-f959-453d-ed5a-f1552fb76262",
        "colab": {
          "base_uri": "https://localhost:8080/",
          "height": 34
        }
      },
      "source": [
        "len(train_labels)"
      ],
      "execution_count": 0,
      "outputs": [
        {
          "output_type": "execute_result",
          "data": {
            "text/plain": [
              "60000"
            ]
          },
          "metadata": {
            "tags": []
          },
          "execution_count": 10
        }
      ]
    },
    {
      "cell_type": "code",
      "metadata": {
        "id": "VpViBX6bst9e",
        "colab_type": "code",
        "outputId": "a727bc56-59be-492a-c62a-b5837725e22e",
        "colab": {
          "base_uri": "https://localhost:8080/",
          "height": 34
        }
      },
      "source": [
        "train_labels"
      ],
      "execution_count": 0,
      "outputs": [
        {
          "output_type": "execute_result",
          "data": {
            "text/plain": [
              "array([9, 0, 0, ..., 3, 0, 5], dtype=uint8)"
            ]
          },
          "metadata": {
            "tags": []
          },
          "execution_count": 11
        }
      ]
    },
    {
      "cell_type": "code",
      "metadata": {
        "id": "mnFpCSvGs3hY",
        "colab_type": "code",
        "outputId": "fe6ad841-5efa-4691-8aea-45a5496bccd5",
        "colab": {
          "base_uri": "https://localhost:8080/",
          "height": 34
        }
      },
      "source": [
        "len(test_labels)"
      ],
      "execution_count": 0,
      "outputs": [
        {
          "output_type": "execute_result",
          "data": {
            "text/plain": [
              "10000"
            ]
          },
          "metadata": {
            "tags": []
          },
          "execution_count": 12
        }
      ]
    },
    {
      "cell_type": "code",
      "metadata": {
        "id": "P1zv8zUhs_-v",
        "colab_type": "code",
        "outputId": "89731bd7-1360-4b18-e14e-e65268d6c9f3",
        "colab": {
          "base_uri": "https://localhost:8080/",
          "height": 1000
        }
      },
      "source": [
        "# train labels and images\n",
        "print('Training Lebel:')\n",
        "print(train_labels[0])\n",
        "print('Training Image:')\n",
        "print(train_images[0])"
      ],
      "execution_count": 0,
      "outputs": [
        {
          "output_type": "stream",
          "text": [
            "Training Lebel:\n",
            "9\n",
            "Training Image:\n",
            "[[  0   0   0   0   0   0   0   0   0   0   0   0   0   0   0   0   0   0\n",
            "    0   0   0   0   0   0   0   0   0   0]\n",
            " [  0   0   0   0   0   0   0   0   0   0   0   0   0   0   0   0   0   0\n",
            "    0   0   0   0   0   0   0   0   0   0]\n",
            " [  0   0   0   0   0   0   0   0   0   0   0   0   0   0   0   0   0   0\n",
            "    0   0   0   0   0   0   0   0   0   0]\n",
            " [  0   0   0   0   0   0   0   0   0   0   0   0   1   0   0  13  73   0\n",
            "    0   1   4   0   0   0   0   1   1   0]\n",
            " [  0   0   0   0   0   0   0   0   0   0   0   0   3   0  36 136 127  62\n",
            "   54   0   0   0   1   3   4   0   0   3]\n",
            " [  0   0   0   0   0   0   0   0   0   0   0   0   6   0 102 204 176 134\n",
            "  144 123  23   0   0   0   0  12  10   0]\n",
            " [  0   0   0   0   0   0   0   0   0   0   0   0   0   0 155 236 207 178\n",
            "  107 156 161 109  64  23  77 130  72  15]\n",
            " [  0   0   0   0   0   0   0   0   0   0   0   1   0  69 207 223 218 216\n",
            "  216 163 127 121 122 146 141  88 172  66]\n",
            " [  0   0   0   0   0   0   0   0   0   1   1   1   0 200 232 232 233 229\n",
            "  223 223 215 213 164 127 123 196 229   0]\n",
            " [  0   0   0   0   0   0   0   0   0   0   0   0   0 183 225 216 223 228\n",
            "  235 227 224 222 224 221 223 245 173   0]\n",
            " [  0   0   0   0   0   0   0   0   0   0   0   0   0 193 228 218 213 198\n",
            "  180 212 210 211 213 223 220 243 202   0]\n",
            " [  0   0   0   0   0   0   0   0   0   1   3   0  12 219 220 212 218 192\n",
            "  169 227 208 218 224 212 226 197 209  52]\n",
            " [  0   0   0   0   0   0   0   0   0   0   6   0  99 244 222 220 218 203\n",
            "  198 221 215 213 222 220 245 119 167  56]\n",
            " [  0   0   0   0   0   0   0   0   0   4   0   0  55 236 228 230 228 240\n",
            "  232 213 218 223 234 217 217 209  92   0]\n",
            " [  0   0   1   4   6   7   2   0   0   0   0   0 237 226 217 223 222 219\n",
            "  222 221 216 223 229 215 218 255  77   0]\n",
            " [  0   3   0   0   0   0   0   0   0  62 145 204 228 207 213 221 218 208\n",
            "  211 218 224 223 219 215 224 244 159   0]\n",
            " [  0   0   0   0  18  44  82 107 189 228 220 222 217 226 200 205 211 230\n",
            "  224 234 176 188 250 248 233 238 215   0]\n",
            " [  0  57 187 208 224 221 224 208 204 214 208 209 200 159 245 193 206 223\n",
            "  255 255 221 234 221 211 220 232 246   0]\n",
            " [  3 202 228 224 221 211 211 214 205 205 205 220 240  80 150 255 229 221\n",
            "  188 154 191 210 204 209 222 228 225   0]\n",
            " [ 98 233 198 210 222 229 229 234 249 220 194 215 217 241  65  73 106 117\n",
            "  168 219 221 215 217 223 223 224 229  29]\n",
            " [ 75 204 212 204 193 205 211 225 216 185 197 206 198 213 240 195 227 245\n",
            "  239 223 218 212 209 222 220 221 230  67]\n",
            " [ 48 203 183 194 213 197 185 190 194 192 202 214 219 221 220 236 225 216\n",
            "  199 206 186 181 177 172 181 205 206 115]\n",
            " [  0 122 219 193 179 171 183 196 204 210 213 207 211 210 200 196 194 191\n",
            "  195 191 198 192 176 156 167 177 210  92]\n",
            " [  0   0  74 189 212 191 175 172 175 181 185 188 189 188 193 198 204 209\n",
            "  210 210 211 188 188 194 192 216 170   0]\n",
            " [  2   0   0   0  66 200 222 237 239 242 246 243 244 221 220 193 191 179\n",
            "  182 182 181 176 166 168  99  58   0   0]\n",
            " [  0   0   0   0   0   0   0  40  61  44  72  41  35   0   0   0   0   0\n",
            "    0   0   0   0   0   0   0   0   0   0]\n",
            " [  0   0   0   0   0   0   0   0   0   0   0   0   0   0   0   0   0   0\n",
            "    0   0   0   0   0   0   0   0   0   0]\n",
            " [  0   0   0   0   0   0   0   0   0   0   0   0   0   0   0   0   0   0\n",
            "    0   0   0   0   0   0   0   0   0   0]]\n"
          ],
          "name": "stdout"
        }
      ]
    },
    {
      "cell_type": "code",
      "metadata": {
        "id": "1LJbNsDVtd7l",
        "colab_type": "code",
        "outputId": "838a80b0-220d-43fe-a2e7-3f7aa70ff2b1",
        "colab": {
          "base_uri": "https://localhost:8080/",
          "height": 34
        }
      },
      "source": [
        "np.max(train_images)"
      ],
      "execution_count": 0,
      "outputs": [
        {
          "output_type": "execute_result",
          "data": {
            "text/plain": [
              "255"
            ]
          },
          "metadata": {
            "tags": []
          },
          "execution_count": 14
        }
      ]
    },
    {
      "cell_type": "markdown",
      "metadata": {
        "id": "ijwxYhaFuAgz",
        "colab_type": "text"
      },
      "source": [
        "**Data Pre-processing**"
      ]
    },
    {
      "cell_type": "code",
      "metadata": {
        "id": "TKdY2gNbtyiy",
        "colab_type": "code",
        "outputId": "188e257f-b893-4a7c-8030-a325e853ce50",
        "colab": {
          "base_uri": "https://localhost:8080/",
          "height": 265
        }
      },
      "source": [
        "# check the first image\n",
        "plt.figure()\n",
        "plt.imshow(train_images[0])\n",
        "plt.colorbar()\n",
        "plt.grid(False)\n",
        "plt.show()"
      ],
      "execution_count": 0,
      "outputs": [
        {
          "output_type": "display_data",
          "data": {
            "image/png": "[encoded data removed]",
            "text/plain": [
              "<Figure size 432x288 with 2 Axes>"
            ]
          },
          "metadata": {
            "tags": [],
            "needs_background": "light"
          }
        }
      ]
    },
    {
      "cell_type": "code",
      "metadata": {
        "id": "6WlUWD4yu5t5",
        "colab_type": "code",
        "outputId": "bb581a67-6721-4a41-c4e0-ed579880bc39",
        "colab": {
          "base_uri": "https://localhost:8080/",
          "height": 265
        }
      },
      "source": [
        "plt.figure()\n",
        "plt.imshow(train_images[1])\n",
        "plt.colorbar()\n",
        "plt.grid(False)\n",
        "plt.show()"
      ],
      "execution_count": 0,
      "outputs": [
        {
          "output_type": "display_data",
          "data": {
            "image/png": "[encoded data removed]",
            "text/plain": [
              "<Figure size 432x288 with 2 Axes>"
            ]
          },
          "metadata": {
            "tags": [],
            "needs_background": "light"
          }
        }
      ]
    },
    {
      "cell_type": "code",
      "metadata": {
        "id": "BRWjSzULvHWC",
        "colab_type": "code",
        "outputId": "fb065258-0524-49d6-a09f-bb520421cdba",
        "colab": {
          "base_uri": "https://localhost:8080/",
          "height": 265
        }
      },
      "source": [
        "plt.figure()\n",
        "plt.imshow(train_images[8])\n",
        "plt.colorbar()\n",
        "plt.grid(False)\n",
        "plt.show()"
      ],
      "execution_count": 0,
      "outputs": [
        {
          "output_type": "display_data",
          "data": {
            "image/png": "[encoded data removed]",
            "text/plain": [
              "<Figure size 432x288 with 2 Axes>"
            ]
          },
          "metadata": {
            "tags": [],
            "needs_background": "light"
          }
        }
      ]
    },
    {
      "cell_type": "code",
      "metadata": {
        "id": "99wlILkIvM5i",
        "colab_type": "code",
        "colab": {}
      },
      "source": [
        "# Normalize data as the range of is very wide\n",
        "train_images = train_images / 255.0\n",
        "test_images = test_images / 255.0"
      ],
      "execution_count": 0,
      "outputs": []
    },
    {
      "cell_type": "code",
      "metadata": {
        "id": "nMSUYXOpvvvx",
        "colab_type": "code",
        "outputId": "b8db96a4-9d92-41b7-eab3-213d96a7fc45",
        "colab": {
          "base_uri": "https://localhost:8080/",
          "height": 265
        }
      },
      "source": [
        "plt.figure()\n",
        "plt.imshow(train_images[0])\n",
        "plt.colorbar()\n",
        "plt.grid(False)\n",
        "plt.show()"
      ],
      "execution_count": 0,
      "outputs": [
        {
          "output_type": "display_data",
          "data": {
            "image/png": "[encoded data removed]",
            "text/plain": [
              "<Figure size 432x288 with 2 Axes>"
            ]
          },
          "metadata": {
            "tags": [],
            "needs_background": "light"
          }
        }
      ]
    },
    {
      "cell_type": "code",
      "metadata": {
        "id": "_9bsW_k7vzC6",
        "colab_type": "code",
        "outputId": "42f25b39-0595-40f6-bff9-cf45ac17bc78",
        "colab": {
          "base_uri": "https://localhost:8080/",
          "height": 589
        }
      },
      "source": [
        "# check all data is in same format\n",
        "# As declare class before, we can see the name below the images\n",
        "plt.figure(figsize=(10, 10))\n",
        "for i in range(25):\n",
        "  plt.subplot(5,5, i+1)\n",
        "  plt.xticks([])\n",
        "  plt.yticks([])\n",
        "  plt.grid(False)\n",
        "  plt.imshow(train_images[i], cmap=plt.cm.binary)\n",
        "  plt.xlabel(class_names[train_labels[i]])\n",
        "\n",
        "plt.show()"
      ],
      "execution_count": 0,
      "outputs": [
        {
          "output_type": "display_data",
          "data": {
            "image/png": "[encoded data removed]",
            "text/plain": [
              "<Figure size 720x720 with 25 Axes>"
            ]
          },
          "metadata": {
            "tags": []
          }
        }
      ]
    },
    {
      "cell_type": "markdown",
      "metadata": {
        "id": "EEfiA_c_0HWs",
        "colab_type": "text"
      },
      "source": [
        "BUILD MODEL"
      ]
    },
    {
      "cell_type": "code",
      "metadata": {
        "id": "JiUvOGlxzLfP",
        "colab_type": "code",
        "colab": {}
      },
      "source": [
        "# Define layers sequence\n",
        "model = keras.Sequential([\n",
        "                          keras.layers.Flatten(input_shape=(28,28)),\n",
        "                          keras.layers.Dense(128, activation='relu'),\n",
        "                          keras.layers.Dense(10, activation='softmax')\n",
        "])"
      ],
      "execution_count": 0,
      "outputs": []
    },
    {
      "cell_type": "code",
      "metadata": {
        "id": "fCaHnzTu2Y8T",
        "colab_type": "code",
        "colab": {}
      },
      "source": [
        "# Compile model\n",
        "model.compile(loss=\"sparse_categorical_crossentropy\",\n",
        "              optimizer='adam',\n",
        "              metrics=['accuracy'])"
      ],
      "execution_count": 0,
      "outputs": []
    },
    {
      "cell_type": "code",
      "metadata": {
        "id": "AewKGcM65Uky",
        "colab_type": "code",
        "outputId": "b0090e31-1167-4a35-b5b0-0795cf5da455",
        "colab": {
          "base_uri": "https://localhost:8080/",
          "height": 374
        }
      },
      "source": [
        "# Train model\n",
        "model.fit(train_images, train_labels, epochs=10)"
      ],
      "execution_count": 0,
      "outputs": [
        {
          "output_type": "stream",
          "text": [
            "Epoch 1/10\n",
            "1875/1875 [==============================] - 3s 2ms/step - loss: 1.0746 - accuracy: 0.6702\n",
            "Epoch 2/10\n",
            "1875/1875 [==============================] - 3s 2ms/step - loss: 0.6367 - accuracy: 0.7707\n",
            "Epoch 3/10\n",
            "1875/1875 [==============================] - 3s 2ms/step - loss: 0.5626 - accuracy: 0.7983\n",
            "Epoch 4/10\n",
            "1875/1875 [==============================] - 3s 2ms/step - loss: 0.5205 - accuracy: 0.8158\n",
            "Epoch 5/10\n",
            "1875/1875 [==============================] - 3s 2ms/step - loss: 0.4929 - accuracy: 0.8255\n",
            "Epoch 6/10\n",
            "1875/1875 [==============================] - 3s 2ms/step - loss: 0.4727 - accuracy: 0.8328\n",
            "Epoch 7/10\n",
            "1875/1875 [==============================] - 3s 2ms/step - loss: 0.4577 - accuracy: 0.8385\n",
            "Epoch 8/10\n",
            "1875/1875 [==============================] - 3s 2ms/step - loss: 0.4457 - accuracy: 0.8424\n",
            "Epoch 9/10\n",
            "1875/1875 [==============================] - 3s 2ms/step - loss: 0.4356 - accuracy: 0.8458\n",
            "Epoch 10/10\n",
            "1875/1875 [==============================] - 3s 2ms/step - loss: 0.4279 - accuracy: 0.8489\n"
          ],
          "name": "stdout"
        },
        {
          "output_type": "execute_result",
          "data": {
            "text/plain": [
              "<tensorflow.python.keras.callbacks.History at 0x7fe94caffe48>"
            ]
          },
          "metadata": {
            "tags": []
          },
          "execution_count": 28
        }
      ]
    },
    {
      "cell_type": "code",
      "metadata": {
        "id": "N3x0LyMD6i7z",
        "colab_type": "code",
        "outputId": "bd01f3a0-3bbd-4b83-ed9b-d8e3f0117fb7",
        "colab": {
          "base_uri": "https://localhost:8080/",
          "height": 68
        }
      },
      "source": [
        "# evaluate model\n",
        "test_loss, test_acc = model.evaluate(test_images, test_labels)\n",
        "print('\\nTest Accuracy : ', test_acc)"
      ],
      "execution_count": 0,
      "outputs": [
        {
          "output_type": "stream",
          "text": [
            "313/313 [==============================] - 0s 1ms/step - loss: 88.4232 - accuracy: 0.7080\n",
            "\n",
            "Test Accuracy :  0.7080000042915344\n"
          ],
          "name": "stdout"
        }
      ]
    },
    {
      "cell_type": "code",
      "metadata": {
        "id": "IRTmfIDn8PKq",
        "colab_type": "code",
        "outputId": "21c17eba-74d1-4cf2-c792-897594e530af",
        "colab": {
          "base_uri": "https://localhost:8080/",
          "height": 51
        }
      },
      "source": [
        "# Similar in scikit learn\n",
        "from sklearn.metrics import accuracy_score\n",
        "pred_labels = model.predict_classes(test_images)\n",
        "print('\\nAccuracy:', accuracy_score(test_labels, pred_labels))"
      ],
      "execution_count": 0,
      "outputs": [
        {
          "output_type": "stream",
          "text": [
            "\n",
            "Accuracy: 0.708\n"
          ],
          "name": "stdout"
        }
      ]
    },
    {
      "cell_type": "code",
      "metadata": {
        "id": "b9k6ZVJh9LYy",
        "colab_type": "code",
        "outputId": "90b3d06a-e71a-46a5-bae1-2d492a2b9903",
        "colab": {
          "base_uri": "https://localhost:8080/",
          "height": 34
        }
      },
      "source": [
        "#predictions\n",
        "predictions = model.predict(test_images)\n",
        "predictions[0]"
      ],
      "execution_count": 0,
      "outputs": [
        {
          "output_type": "execute_result",
          "data": {
            "text/plain": [
              "array([0., 0., 0., 0., 0., 0., 0., 0., 0., 1.], dtype=float32)"
            ]
          },
          "metadata": {
            "tags": []
          },
          "execution_count": 32
        }
      ]
    },
    {
      "cell_type": "code",
      "metadata": {
        "id": "3TQlT1ZkBJwl",
        "colab_type": "code",
        "outputId": "5fe4e64a-432e-4aad-d1f6-532d0d5a98c7",
        "colab": {
          "base_uri": "https://localhost:8080/",
          "height": 34
        }
      },
      "source": [
        "# check most confifdence of probabity distribution\n",
        "np.argmax(predictions[0])"
      ],
      "execution_count": 0,
      "outputs": [
        {
          "output_type": "execute_result",
          "data": {
            "text/plain": [
              "9"
            ]
          },
          "metadata": {
            "tags": []
          },
          "execution_count": 34
        }
      ]
    },
    {
      "cell_type": "code",
      "metadata": {
        "id": "VoRT3UofBhqL",
        "colab_type": "code",
        "outputId": "6acf77d8-3a8b-4961-b0ce-d3fb1e519a1f",
        "colab": {
          "base_uri": "https://localhost:8080/",
          "height": 34
        }
      },
      "source": [
        "# check\n",
        "test_labels[0]"
      ],
      "execution_count": 0,
      "outputs": [
        {
          "output_type": "execute_result",
          "data": {
            "text/plain": [
              "9"
            ]
          },
          "metadata": {
            "tags": []
          },
          "execution_count": 35
        }
      ]
    },
    {
      "cell_type": "code",
      "metadata": {
        "id": "mmvNSvzaByrl",
        "colab_type": "code",
        "colab": {}
      },
      "source": [
        "# for visualize 10 samples in graph\n",
        "def plot_image(i, predictions_array, true_label, img):\n",
        "  predictions_array, true_label, img = predictions_array, true_label[i], img[i]\n",
        "  plt.grid(False)\n",
        "  plt.xticks([])\n",
        "  plt.yticks([])\n",
        "\n",
        "  plt.imshow(img, cmap=plt.cm.binary)\n",
        "\n",
        "  predicted_label = np.argmax(predictions_array)\n",
        "  if predicted_label == true_label:\n",
        "    color = 'blue'\n",
        "  else:\n",
        "    color = 'red'\n",
        "\n",
        "  plt.xlabel(\"{} {:2.0f}% ({})\".format(class_names[predicted_label],\n",
        "                                100*np.max(predictions_array),\n",
        "                                class_names[true_label]),\n",
        "                                color=color)\n"
      ],
      "execution_count": 0,
      "outputs": []
    },
    {
      "cell_type": "code",
      "metadata": {
        "id": "-8512maSCcAL",
        "colab_type": "code",
        "colab": {}
      },
      "source": [
        "def plot_value_array(i, predictions_array, true_label):\n",
        "  predictions_array, true_label = predictions_array, true_label[i]\n",
        "  plt.grid(False)\n",
        "  plt.xticks(range(10))\n",
        "  plt.yticks([])\n",
        "  thisplot = plt.bar(range(10), predictions_array, color=\"#777777\")\n",
        "  plt.ylim([0, 1])\n",
        "  predicted_label = np.argmax(predictions_array)\n",
        "\n",
        "  thisplot[predicted_label].set_color('red')\n",
        "  thisplot[true_label].set_color('blue')"
      ],
      "execution_count": 0,
      "outputs": []
    },
    {
      "cell_type": "code",
      "metadata": {
        "id": "iOnW5T1fClGZ",
        "colab_type": "code",
        "outputId": "8ad4412b-f729-4663-bca1-086694cefef7",
        "colab": {
          "base_uri": "https://localhost:8080/",
          "height": 211
        }
      },
      "source": [
        "i = 0\n",
        "plt.figure(figsize=(6,3))\n",
        "plt.subplot(1,2,1)\n",
        "plot_image(i, predictions[i], test_labels, test_images)\n",
        "plt.subplot(1,2,2)\n",
        "plot_value_array(i, predictions[i],  test_labels)\n",
        "plt.show()"
      ],
      "execution_count": 0,
      "outputs": [
        {
          "output_type": "display_data",
          "data": {
            "image/png": "[encoded data removed]",
            "text/plain": [
              "<Figure size 432x216 with 2 Axes>"
            ]
          },
          "metadata": {
            "tags": [],
            "needs_background": "light"
          }
        }
      ]
    },
    {
      "cell_type": "code",
      "metadata": {
        "id": "tuUfo-KgC3nO",
        "colab_type": "code",
        "outputId": "29c26071-ea74-4957-8287-48f8e8674fd2",
        "colab": {
          "base_uri": "https://localhost:8080/",
          "height": 211
        }
      },
      "source": [
        "i = 25\n",
        "plt.figure(figsize=(6,3))\n",
        "plt.subplot(1,2,1)\n",
        "plot_image(i, predictions[i], test_labels, test_images)\n",
        "plt.subplot(1,2,2)\n",
        "plot_value_array(i, predictions[i],  test_labels)\n",
        "plt.show()"
      ],
      "execution_count": 0,
      "outputs": [
        {
          "output_type": "display_data",
          "data": {
            "image/png": "[encoded data removed]",
            "text/plain": [
              "<Figure size 432x216 with 2 Axes>"
            ]
          },
          "metadata": {
            "tags": [],
            "needs_background": "light"
          }
        }
      ]
    },
    {
      "cell_type": "code",
      "metadata": {
        "id": "lfMNMSy6C_DM",
        "colab_type": "code",
        "outputId": "addbe5a5-930d-4aab-aefa-13976605e275",
        "colab": {
          "base_uri": "https://localhost:8080/",
          "height": 729
        }
      },
      "source": [
        "num_rows = 5\n",
        "num_cols = 3\n",
        "num_images = num_rows*num_cols\n",
        "plt.figure(figsize=(2*2*num_cols, 2*num_rows))\n",
        "for i in range(num_images):\n",
        "  plt.subplot(num_rows, 2*num_cols, 2*i+1)\n",
        "  plot_image(i, predictions[i], test_labels, test_images)\n",
        "  plt.subplot(num_rows, 2*num_cols, 2*i+2)\n",
        "  plot_value_array(i, predictions[i], test_labels)\n",
        "plt.tight_layout()\n",
        "plt.show()"
      ],
      "execution_count": 0,
      "outputs": [
        {
          "output_type": "display_data",
          "data": {
            "image/png": "[encoded data removed]",
            "text/plain": [
              "<Figure size 864x720 with 30 Axes>"
            ]
          },
          "metadata": {
            "tags": [],
            "needs_background": "light"
          }
        }
      ]
    },
    {
      "cell_type": "markdown",
      "metadata": {
        "id": "DxKqtErhEXcB",
        "colab_type": "text"
      },
      "source": [
        "Batch Prediction"
      ]
    },
    {
      "cell_type": "code",
      "metadata": {
        "id": "_zUTgbCUDLu-",
        "colab_type": "code",
        "outputId": "0fffeb35-dc6e-4fcc-c671-dd9a93d23437",
        "colab": {
          "base_uri": "https://localhost:8080/",
          "height": 34
        }
      },
      "source": [
        "# Predict an image with this trined model\n",
        "img = test_images[0]\n",
        "img.shape"
      ],
      "execution_count": 0,
      "outputs": [
        {
          "output_type": "execute_result",
          "data": {
            "text/plain": [
              "(28, 28)"
            ]
          },
          "metadata": {
            "tags": []
          },
          "execution_count": 41
        }
      ]
    },
    {
      "cell_type": "code",
      "metadata": {
        "id": "ErZWMi8CEqvF",
        "colab_type": "code",
        "outputId": "d4576a73-e8f0-4d4c-bc3e-04b305415731",
        "colab": {
          "base_uri": "https://localhost:8080/",
          "height": 34
        }
      },
      "source": [
        "# for batch\n",
        "img = np.expand_dims(img,0)\n",
        "img.shape"
      ],
      "execution_count": 0,
      "outputs": [
        {
          "output_type": "execute_result",
          "data": {
            "text/plain": [
              "(1, 28, 28)"
            ]
          },
          "metadata": {
            "tags": []
          },
          "execution_count": 42
        }
      ]
    },
    {
      "cell_type": "code",
      "metadata": {
        "id": "D44CA2WnE2WU",
        "colab_type": "code",
        "outputId": "1fe13d51-9797-45e1-b232-8a45338ab62e",
        "colab": {
          "base_uri": "https://localhost:8080/",
          "height": 34
        }
      },
      "source": [
        "predict_single = model.predict(img)\n",
        "predict_single"
      ],
      "execution_count": 0,
      "outputs": [
        {
          "output_type": "execute_result",
          "data": {
            "text/plain": [
              "array([[0., 0., 0., 0., 0., 0., 0., 0., 0., 1.]], dtype=float32)"
            ]
          },
          "metadata": {
            "tags": []
          },
          "execution_count": 43
        }
      ]
    },
    {
      "cell_type": "code",
      "metadata": {
        "id": "G9YCXXb0FXfp",
        "colab_type": "code",
        "outputId": "1fcc36e2-d9f6-4e5b-bb6d-5f8bb907037c",
        "colab": {
          "base_uri": "https://localhost:8080/",
          "height": 300
        }
      },
      "source": [
        "plot_value_array(1, predict_single[0], test_labels)\n",
        "_=plt.xticks(range(10), class_names, rotation=45)"
      ],
      "execution_count": 0,
      "outputs": [
        {
          "output_type": "display_data",
          "data": {
            "image/png": "[encoded data removed]",
            "text/plain": [
              "<Figure size 432x288 with 1 Axes>"
            ]
          },
          "metadata": {
            "tags": [],
            "needs_background": "light"
          }
        }
      ]
    },
    {
      "cell_type": "code",
      "metadata": {
        "id": "P0-MoQm6F_lY",
        "colab_type": "code",
        "outputId": "60af3d86-5bdc-4b6c-d63c-adc12c538ba6",
        "colab": {
          "base_uri": "https://localhost:8080/",
          "height": 34
        }
      },
      "source": [
        "# check\n",
        "np.argmax(predict_single[0])"
      ],
      "execution_count": 0,
      "outputs": [
        {
          "output_type": "execute_result",
          "data": {
            "text/plain": [
              "9"
            ]
          },
          "metadata": {
            "tags": []
          },
          "execution_count": 45
        }
      ]
    },
    {
      "cell_type": "markdown",
      "metadata": {
        "id": "pm2x8zOgGsGq",
        "colab_type": "text"
      },
      "source": [
        "understanding callback"
      ]
    },
    {
      "cell_type": "code",
      "metadata": {
        "id": "PSxVKzknGXRh",
        "colab_type": "code",
        "outputId": "c87f4988-6c7d-4b59-b509-0f217b33e7bd",
        "colab": {
          "base_uri": "https://localhost:8080/",
          "height": 374
        }
      },
      "source": [
        "# define callback loop to reached certain accuracy\n",
        "class mycallback(tf.keras.callbacks.Callback):\n",
        "  def on_epoc_end(self, epoch, logs={}):\n",
        "    if (logs.get('accuracy')>0.9):\n",
        "      print(\"\\nReached 90% accuracy, so cvancelling training!!\")\n",
        "      self.model.stop_training = True\n",
        "\n",
        "#all same code\n",
        "fashion_mnist = tf.keras.datasets.fashion_mnist\n",
        "\n",
        "(x_train, y_train),(x_test, y_test) = fashion_mnist.load_data()\n",
        "x_train, x_test = x_train / 255.0, x_test / 255.0\n",
        "\n",
        "# Only new code\n",
        "callbacks = mycallback()\n",
        "\n",
        "# layers\n",
        "model = tf.keras.models.Sequential([\n",
        "  tf.keras.layers.Flatten(input_shape=(28, 28)),\n",
        "  tf.keras.layers.Dense(512, activation=tf.nn.relu),\n",
        "  tf.keras.layers.Dense(10, activation=tf.nn.softmax)\n",
        "])\n",
        "\n",
        "#compile\n",
        "model.compile(optimizer='adam',\n",
        "              loss='sparse_categorical_crossentropy',\n",
        "              metrics=['accuracy'])\n",
        "\n",
        "# fit\n",
        "model.fit(x_train, y_train, epochs=10, callbacks=[callbacks])"
      ],
      "execution_count": 0,
      "outputs": [
        {
          "output_type": "stream",
          "text": [
            "Epoch 1/10\n",
            "1875/1875 [==============================] - 7s 4ms/step - loss: 0.4778 - accuracy: 0.8299\n",
            "Epoch 2/10\n",
            "1875/1875 [==============================] - 7s 4ms/step - loss: 0.3592 - accuracy: 0.8697\n",
            "Epoch 3/10\n",
            "1875/1875 [==============================] - 7s 4ms/step - loss: 0.3215 - accuracy: 0.8810\n",
            "Epoch 4/10\n",
            "1875/1875 [==============================] - 7s 4ms/step - loss: 0.2983 - accuracy: 0.8898\n",
            "Epoch 5/10\n",
            "1875/1875 [==============================] - 7s 4ms/step - loss: 0.2821 - accuracy: 0.8953\n",
            "Epoch 6/10\n",
            "1875/1875 [==============================] - 6s 3ms/step - loss: 0.2647 - accuracy: 0.9014\n",
            "Epoch 7/10\n",
            "1875/1875 [==============================] - 7s 4ms/step - loss: 0.2519 - accuracy: 0.9054\n",
            "Epoch 8/10\n",
            "1875/1875 [==============================] - 7s 4ms/step - loss: 0.2386 - accuracy: 0.9114\n",
            "Epoch 9/10\n",
            "1875/1875 [==============================] - 7s 4ms/step - loss: 0.2298 - accuracy: 0.9132\n",
            "Epoch 10/10\n",
            "1875/1875 [==============================] - 7s 4ms/step - loss: 0.2201 - accuracy: 0.9166\n"
          ],
          "name": "stdout"
        },
        {
          "output_type": "execute_result",
          "data": {
            "text/plain": [
              "<tensorflow.python.keras.callbacks.History at 0x7fe953efcbe0>"
            ]
          },
          "metadata": {
            "tags": []
          },
          "execution_count": 48
        }
      ]
    },
    {
      "cell_type": "code",
      "metadata": {
        "id": "V-iq7SGVJqDO",
        "colab_type": "code",
        "outputId": "bb2f7f11-15b5-480e-a70f-13aa7c7f0537",
        "colab": {
          "base_uri": "https://localhost:8080/",
          "height": 255
        }
      },
      "source": [
        "model.summary()"
      ],
      "execution_count": 0,
      "outputs": [
        {
          "output_type": "stream",
          "text": [
            "Model: \"sequential_1\"\n",
            "_________________________________________________________________\n",
            "Layer (type)                 Output Shape              Param #   \n",
            "=================================================================\n",
            "flatten_1 (Flatten)          (None, 784)               0         \n",
            "_________________________________________________________________\n",
            "dense_2 (Dense)              (None, 512)               401920    \n",
            "_________________________________________________________________\n",
            "dense_3 (Dense)              (None, 10)                5130      \n",
            "=================================================================\n",
            "Total params: 407,050\n",
            "Trainable params: 407,050\n",
            "Non-trainable params: 0\n",
            "_________________________________________________________________\n"
          ],
          "name": "stdout"
        }
      ]
    },
    {
      "cell_type": "code",
      "metadata": {
        "id": "9qldrQ9JLkSt",
        "colab_type": "code",
        "outputId": "07a42d0e-43c3-4a13-a11b-daee7ed8c30e",
        "colab": {
          "base_uri": "https://localhost:8080/",
          "height": 422
        }
      },
      "source": [
        "# we can see, too many params in hidden layer = 784*512 = 2* 407050\n",
        "\n",
        "# create a plot\n",
        "keras.utils.plot_model(model, 'mnist_model.png', show_shapes=True)"
      ],
      "execution_count": 0,
      "outputs": [
        {
          "output_type": "execute_result",
          "data": {
            "image/png": "[encoded data removed]",
            "text/plain": [
              "<IPython.core.display.Image object>"
            ]
          },
          "metadata": {
            "tags": []
          },
          "execution_count": 51
        }
      ]
    },
    {
      "cell_type": "code",
      "metadata": {
        "id": "pGo6OznLM1g8",
        "colab_type": "code",
        "outputId": "c643b091-66a6-4b55-c445-8c83e16953f0",
        "colab": {
          "base_uri": "https://localhost:8080/",
          "height": 68
        }
      },
      "source": [
        "# check layers name\n",
        "model.layers"
      ],
      "execution_count": 0,
      "outputs": [
        {
          "output_type": "execute_result",
          "data": {
            "text/plain": [
              "[<tensorflow.python.keras.layers.core.Flatten at 0x7fe94852ee10>,\n",
              " <tensorflow.python.keras.layers.core.Dense at 0x7fe94852e128>,\n",
              " <tensorflow.python.keras.layers.core.Dense at 0x7fe94852e630>]"
            ]
          },
          "metadata": {
            "tags": []
          },
          "execution_count": 54
        }
      ]
    },
    {
      "cell_type": "code",
      "metadata": {
        "id": "wuh080fENHMO",
        "colab_type": "code",
        "outputId": "11a0b1d9-194d-4a2d-8733-6272fa11e815",
        "colab": {
          "base_uri": "https://localhost:8080/",
          "height": 34
        }
      },
      "source": [
        "hidden1=model.layers[1]\n",
        "hidden1.name"
      ],
      "execution_count": 0,
      "outputs": [
        {
          "output_type": "execute_result",
          "data": {
            "text/plain": [
              "'dense_2'"
            ]
          },
          "metadata": {
            "tags": []
          },
          "execution_count": 56
        }
      ]
    },
    {
      "cell_type": "code",
      "metadata": {
        "id": "8eTDZK3rNSnu",
        "colab_type": "code",
        "outputId": "46634935-65be-4051-b200-de9abaa640b3",
        "colab": {
          "base_uri": "https://localhost:8080/",
          "height": 34
        }
      },
      "source": [
        "hidden2=model.layers[2]\n",
        "hidden2.name"
      ],
      "execution_count": 0,
      "outputs": [
        {
          "output_type": "execute_result",
          "data": {
            "text/plain": [
              "'dense_3'"
            ]
          },
          "metadata": {
            "tags": []
          },
          "execution_count": 57
        }
      ]
    },
    {
      "cell_type": "code",
      "metadata": {
        "id": "nO4zYrcaNf-6",
        "colab_type": "code",
        "outputId": "e3a4db1a-2cd4-4e2c-d378-a7c915c746d5",
        "colab": {
          "base_uri": "https://localhost:8080/",
          "height": 34
        }
      },
      "source": [
        "model.get_layer(hidden1.name) is hidden1"
      ],
      "execution_count": 0,
      "outputs": [
        {
          "output_type": "execute_result",
          "data": {
            "text/plain": [
              "True"
            ]
          },
          "metadata": {
            "tags": []
          },
          "execution_count": 58
        }
      ]
    },
    {
      "cell_type": "code",
      "metadata": {
        "id": "gIymd9KKNrju",
        "colab_type": "code",
        "colab": {}
      },
      "source": [
        "weights, biases = hidden1.get_weights()"
      ],
      "execution_count": 0,
      "outputs": []
    },
    {
      "cell_type": "code",
      "metadata": {
        "id": "sadDgP8aN2Z4",
        "colab_type": "code",
        "outputId": "4ac2ba28-cc48-423e-b5f7-ff26d21ae805",
        "colab": {
          "base_uri": "https://localhost:8080/",
          "height": 238
        }
      },
      "source": [
        "weights"
      ],
      "execution_count": 0,
      "outputs": [
        {
          "output_type": "execute_result",
          "data": {
            "text/plain": [
              "array([[-0.01989093, -0.10992348, -0.02897615, ..., -0.01308713,\n",
              "        -0.01397539, -0.06125752],\n",
              "       [-0.04398105, -0.280302  , -0.1124949 , ..., -0.1261154 ,\n",
              "        -0.06201326, -0.16855185],\n",
              "       [ 0.10252843, -0.0477287 , -0.06917816, ..., -0.14395463,\n",
              "        -0.08097561, -0.25802952],\n",
              "       ...,\n",
              "       [-0.03273318, -0.29386163,  0.08264645, ..., -0.25891718,\n",
              "         0.07762202,  0.00600727],\n",
              "       [-0.05374445, -0.38115522, -0.165717  , ..., -0.44225362,\n",
              "        -0.19422755,  0.04205965],\n",
              "       [ 0.03543673, -0.25336775, -0.11503821, ..., -0.4032925 ,\n",
              "         0.10741395,  0.08043606]], dtype=float32)"
            ]
          },
          "metadata": {
            "tags": []
          },
          "execution_count": 60
        }
      ]
    },
    {
      "cell_type": "code",
      "metadata": {
        "id": "yD0SEpEAN5FB",
        "colab_type": "code",
        "outputId": "6238235d-aec1-40bd-f303-0907203bcd2a",
        "colab": {
          "base_uri": "https://localhost:8080/",
          "height": 34
        }
      },
      "source": [
        "weights.shape"
      ],
      "execution_count": 0,
      "outputs": [
        {
          "output_type": "execute_result",
          "data": {
            "text/plain": [
              "(784, 512)"
            ]
          },
          "metadata": {
            "tags": []
          },
          "execution_count": 61
        }
      ]
    },
    {
      "cell_type": "code",
      "metadata": {
        "id": "Z4s2qd1ON_Fg",
        "colab_type": "code",
        "outputId": "1bf0c7d9-8955-4be3-c0fc-cfce771a041d",
        "colab": {
          "base_uri": "https://localhost:8080/",
          "height": 1000
        }
      },
      "source": [
        "biases"
      ],
      "execution_count": 0,
      "outputs": [
        {
          "output_type": "execute_result",
          "data": {
            "text/plain": [
              "array([-0.08095386, -0.09189528,  0.37294513,  0.35259804,  0.50818807,\n",
              "        0.16701162, -0.02231851,  0.5449322 ,  0.14698975, -0.01300291,\n",
              "        0.27697816,  0.22763643,  0.18449497,  0.33344895, -0.12536174,\n",
              "       -0.03913485,  0.15506628,  0.3855696 , -0.1286993 , -0.02214603,\n",
              "        0.15809967,  0.00535493,  0.05176621,  0.5147527 , -0.03980166,\n",
              "        0.05212184, -0.06403252,  0.36373013, -0.01318684, -0.0257621 ,\n",
              "        0.5239195 ,  0.3100713 , -0.05013927,  0.14109202,  0.423194  ,\n",
              "        0.45509017,  0.02696111, -0.02272824, -0.06438404,  0.21752667,\n",
              "       -0.0017559 ,  0.4569196 , -0.10819723,  0.11345234, -0.00996424,\n",
              "       -0.00879782,  0.09962413,  0.34429103, -0.25988322,  0.16566391,\n",
              "        0.18614422,  0.25458512,  0.4748047 , -0.09309896,  0.38640285,\n",
              "       -0.3351178 ,  0.20603904, -0.0387472 , -0.3382436 ,  0.09412623,\n",
              "        0.02545785,  0.22832035,  0.08230571, -0.0105234 ,  0.2471346 ,\n",
              "        0.33686608,  0.23188432,  0.45275298, -0.04795795,  0.08810144,\n",
              "       -0.07597358,  0.18283327,  0.5193661 , -0.0322074 ,  0.2900362 ,\n",
              "       -0.00917898,  0.34275714,  0.10762556, -0.03332675,  0.30211875,\n",
              "        0.42403635, -0.09510625,  0.03789649,  0.4423222 ,  0.1068689 ,\n",
              "        0.3578273 , -0.03049709,  0.01449753, -0.01011031,  0.34032503,\n",
              "       -0.1412696 ,  0.18779863,  0.2822765 ,  0.41047007,  0.12292118,\n",
              "       -0.13074793,  0.11206868,  0.7747977 , -0.06104477,  0.4212505 ,\n",
              "       -0.08494524, -0.4534341 ,  0.25255004,  0.06898175, -0.48487163,\n",
              "        0.18344004,  0.12499873,  0.34745952,  0.16289878,  0.29648477,\n",
              "        0.29663128,  0.3081598 ,  0.17446706, -0.2277633 ,  0.35570377,\n",
              "        0.00422778,  0.09120066,  0.25515008, -0.13622287,  0.3495233 ,\n",
              "       -0.02686847, -0.16522445,  0.1349602 ,  0.08230499, -0.4868032 ,\n",
              "       -0.18919663,  0.27973703,  0.35568273,  0.00761093,  0.12052491,\n",
              "        0.12559326,  0.43022233, -0.15484807, -0.01469771,  0.52897817,\n",
              "        0.35184172,  0.14832827,  0.21502551,  0.07039904,  0.09162691,\n",
              "        0.08013787,  0.24145259, -0.27278122,  0.14931497,  0.25016657,\n",
              "       -0.08247443,  0.61783195,  0.1004472 ,  0.30983886, -0.0925722 ,\n",
              "        0.47781253,  0.30756086, -0.09431215,  0.08797405, -0.07097266,\n",
              "        0.17112699,  0.05110286,  0.18111679,  0.2804606 ,  0.0289092 ,\n",
              "        0.07226523, -0.01384523,  0.0340395 , -0.14779423, -0.0120884 ,\n",
              "        0.05152092,  0.42754728, -0.08088693,  0.41661784,  0.2110596 ,\n",
              "        0.42795908,  0.34397906,  0.29007915, -0.28016117, -0.01426698,\n",
              "        0.00681682, -0.0036178 ,  0.24019815,  0.3283624 , -0.0092798 ,\n",
              "        0.34203   ,  0.01579355,  0.17279004,  0.22199833,  0.1628524 ,\n",
              "       -0.00955973,  0.22693734,  0.06500562, -0.07801046,  0.34301576,\n",
              "        0.33632   , -0.00195599, -0.00905674, -0.01275741, -0.47261178,\n",
              "        0.30624518,  0.27638668,  0.3623527 , -0.02552885,  0.2399395 ,\n",
              "       -0.40923655, -0.02149121,  0.298931  ,  0.22264108,  0.4203963 ,\n",
              "        0.2707712 ,  0.27487868,  0.3226199 , -0.01023232, -0.00581467,\n",
              "        0.37128046, -0.01154812,  0.15451853,  0.3407643 ,  0.30400637,\n",
              "        0.28263542,  0.14888725,  0.01914682,  0.37295502, -0.01465039,\n",
              "        0.04765791,  0.21750706,  0.37959772,  0.12265555,  0.00282266,\n",
              "        0.11693227,  0.03934528,  0.06743335,  0.01732708, -0.03785453,\n",
              "       -0.00678136,  0.15641005,  0.3288541 , -0.1659435 ,  0.28397515,\n",
              "       -0.01394501, -0.01435021,  0.10731176,  0.13695742, -0.01406306,\n",
              "        0.13581496,  0.22991137, -0.3586343 ,  0.20734677,  0.16190244,\n",
              "        0.11616348, -0.13169608, -0.03036976, -0.06231591, -0.1061181 ,\n",
              "        0.43571478,  0.05305769, -0.26104134,  0.31291407,  0.0235661 ,\n",
              "       -0.03466975,  0.07158896, -0.20174742,  0.39168742, -0.10196374,\n",
              "       -0.22478008,  0.18346572,  0.03671586,  0.2091363 ,  0.45195648,\n",
              "        0.0287609 ,  0.2156897 , -0.18598002, -0.0139503 ,  0.42242622,\n",
              "        0.38190338,  0.21308835,  0.50567484, -0.01047383, -0.10643777,\n",
              "        0.4662514 ,  0.21150051,  0.26489967,  0.16952722,  0.10521825,\n",
              "        0.16560064,  0.05331056,  0.05045326,  0.25014684,  0.52821535,\n",
              "        0.04623144,  0.45094666,  0.2832711 , -0.00881564,  0.23053002,\n",
              "        0.3205995 , -0.04949312,  0.6116709 , -0.00901611, -0.00081952,\n",
              "        0.4843008 , -0.00393888,  0.2700754 , -0.01948744, -0.13807192,\n",
              "        0.06666023,  0.0200547 ,  0.09997301, -0.19043583,  0.45772335,\n",
              "       -0.00932076, -0.01687041,  0.3746809 , -0.00442171,  0.33523998,\n",
              "        0.22779402, -0.11080769,  0.38519782, -0.02290375,  0.2043359 ,\n",
              "       -0.28634632,  0.5061111 , -0.21696016,  0.14989066,  0.3793357 ,\n",
              "       -0.01122078,  0.13651302,  0.32868272,  0.20384865,  0.16793892,\n",
              "        0.37386158,  0.03382767,  0.19788216, -0.02536473, -0.18501927,\n",
              "        0.01249089,  0.09548575,  0.18435395,  0.22189498,  0.28127888,\n",
              "       -0.0036299 , -0.01232838,  0.3892854 , -0.22798002, -0.00797279,\n",
              "       -0.0217787 ,  0.24785335,  0.03828744,  0.53597474, -0.01995471,\n",
              "        0.04559286,  0.1515868 ,  0.10906785,  0.07216664, -0.19564745,\n",
              "       -0.01629708,  0.04671176,  0.23407726,  0.16827682,  0.21426462,\n",
              "        0.46995133, -0.01215642, -0.01026987,  0.51832944, -0.01624217,\n",
              "        0.29452652,  0.46164903,  0.27706832,  0.12369305,  0.3805484 ,\n",
              "        0.20836855,  0.00481847,  0.34612924,  0.04482462,  0.08427367,\n",
              "        0.16004041,  0.5265656 ,  0.11792679, -0.01162841,  0.08755144,\n",
              "        0.3537206 ,  0.31771734,  0.1730179 ,  0.38902885,  0.17825249,\n",
              "       -0.01450634,  0.24694753,  0.11438821,  0.07063446, -0.0332079 ,\n",
              "       -0.11462548,  0.18102375, -0.00695626, -0.2911522 ,  0.27120784,\n",
              "       -0.28686324,  0.06262337,  0.15720543, -0.19186439,  0.4918614 ,\n",
              "       -0.02390202,  0.01714293,  0.33272487, -0.02972074, -0.05052046,\n",
              "       -0.00507483,  0.25745416,  0.2870615 ,  0.14524473,  0.46666268,\n",
              "       -0.0152541 , -0.00762177,  0.33071128, -0.03169895,  0.248464  ,\n",
              "        0.42416131,  0.24459727, -0.07631718,  0.27608076,  0.2700244 ,\n",
              "       -0.07692112, -0.32136455, -0.02176024,  0.22672959,  0.06543341,\n",
              "        0.4628486 ,  0.08074778,  0.27603397,  0.65996385,  0.19721971,\n",
              "        0.15317409, -0.40516868,  0.08415066, -0.10066799,  0.23319016,\n",
              "        0.02194358,  0.582524  ,  0.1842454 ,  0.34172633,  0.3556618 ,\n",
              "        0.35822794,  0.18443103, -0.01064097, -0.2213498 ,  0.01400361,\n",
              "        0.24730685,  0.15027513,  0.18610965, -0.02557798,  0.09575061,\n",
              "        0.01308273,  0.18101606,  0.00181295,  0.16328079,  0.2544799 ,\n",
              "        0.06092292, -0.17532508,  0.48463798,  0.1232895 , -0.24309227,\n",
              "        0.29606557,  0.45135614,  0.11198658,  0.31778777, -0.00780357,\n",
              "        0.20120347,  0.48870572,  0.20976207,  0.11327716,  0.13848536,\n",
              "       -0.13928594, -0.29270175,  0.37730214,  0.251702  , -0.02326161,\n",
              "        0.4409157 ,  0.14857677,  0.40354875, -0.2024493 ,  0.03882439,\n",
              "        0.2753902 ,  0.08232304,  0.27260527, -0.02709222,  0.25448883,\n",
              "        0.04458674,  0.1532087 ,  0.08044777,  0.04109737,  0.00209709,\n",
              "        0.3412158 , -0.02445461, -0.00727602,  0.5366697 ,  0.42607203,\n",
              "       -0.21516633,  0.18248932,  0.01128469,  0.10495763,  0.31807825,\n",
              "        0.13695845,  0.20973009,  0.0188855 , -0.02944288,  0.32672322,\n",
              "        0.027148  , -0.0156225 ,  0.11427028, -0.13549724,  0.12147217,\n",
              "        0.53676975,  0.29773635, -0.0209704 , -0.01433437,  0.26713845,\n",
              "        0.41239756, -0.11079833], dtype=float32)"
            ]
          },
          "metadata": {
            "tags": []
          },
          "execution_count": 62
        }
      ]
    },
    {
      "cell_type": "code",
      "metadata": {
        "id": "GNs_2ld5OE82",
        "colab_type": "code",
        "outputId": "3a95da5b-de5a-42fe-8a20-0f772aec7959",
        "colab": {
          "base_uri": "https://localhost:8080/",
          "height": 34
        }
      },
      "source": [
        "biases.shape"
      ],
      "execution_count": 0,
      "outputs": [
        {
          "output_type": "execute_result",
          "data": {
            "text/plain": [
              "(512,)"
            ]
          },
          "metadata": {
            "tags": []
          },
          "execution_count": 63
        }
      ]
    },
    {
      "cell_type": "markdown",
      "metadata": {
        "id": "6bMY6R5lOjn3",
        "colab_type": "text"
      },
      "source": [
        "**Make tensorflow light version**\n",
        "to make an appp for mobile"
      ]
    },
    {
      "cell_type": "code",
      "metadata": {
        "id": "3f-sU9hFOYit",
        "colab_type": "code",
        "outputId": "aae897d8-c7cf-41ad-ca5e-35b71e79c9da",
        "colab": {
          "base_uri": "https://localhost:8080/",
          "height": 105
        }
      },
      "source": [
        "export_dir = 'saved_model/1'\n",
        "tf.saved_model.save(model, export_dir)"
      ],
      "execution_count": 0,
      "outputs": [
        {
          "output_type": "stream",
          "text": [
            "WARNING:tensorflow:From /usr/local/lib/python3.6/dist-packages/tensorflow/python/ops/resource_variable_ops.py:1817: calling BaseResourceVariable.__init__ (from tensorflow.python.ops.resource_variable_ops) with constraint is deprecated and will be removed in a future version.\n",
            "Instructions for updating:\n",
            "If using Keras pass *_constraint arguments to layers.\n",
            "INFO:tensorflow:Assets written to: saved_model/1/assets\n"
          ],
          "name": "stdout"
        }
      ]
    },
    {
      "cell_type": "code",
      "metadata": {
        "id": "09Tok0YuO8kz",
        "colab_type": "code",
        "colab": {}
      },
      "source": [
        "# Convert the model.\n",
        "converter = tf.lite.TFLiteConverter.from_saved_model(export_dir)\n",
        "tflite_model = converter.convert()"
      ],
      "execution_count": 0,
      "outputs": []
    },
    {
      "cell_type": "code",
      "metadata": {
        "id": "1jFKu0i9PFb9",
        "colab_type": "code",
        "colab": {}
      },
      "source": [
        "tflite_model_file = 'model.tflite'\n",
        "\n",
        "with open(tflite_model_file, \"wb\") as f:\n",
        "  f.write(tflite_model)"
      ],
      "execution_count": 0,
      "outputs": []
    },
    {
      "cell_type": "code",
      "metadata": {
        "id": "nPvKztPjPKD5",
        "colab_type": "code",
        "colab": {}
      },
      "source": [
        "with open('labels.txt', 'w') as f:\n",
        "  f.write('\\n'.join(class_names))"
      ],
      "execution_count": 0,
      "outputs": []
    },
    {
      "cell_type": "code",
      "metadata": {
        "id": "TPuVJraCPOiZ",
        "colab_type": "code",
        "colab": {}
      },
      "source": [
        "# download\n",
        "try:\n",
        "  from google.colab import files\n",
        "\n",
        "  files.download(tflite_model_file)\n",
        "  files.download('labels.txt')\n",
        "except:\n",
        "  pass"
      ],
      "execution_count": 0,
      "outputs": []
    },
    {
      "cell_type": "markdown",
      "metadata": {
        "id": "6wJlzbI1Pmka",
        "colab_type": "text"
      },
      "source": [
        "Tensorflow Dataset API"
      ]
    },
    {
      "cell_type": "code",
      "metadata": {
        "id": "t19yjsB0Pibl",
        "colab_type": "code",
        "colab": {}
      },
      "source": [
        "# আমরা আমরা এভাবেও চেষ্টা করতে পারি, টেন্সর-ফ্লো এর ডেটাসেট এপিআই দিয়ে\n",
        "# tfds হচ্ছে টেন্সর ফ্লোতে প্র্যাকটিস করার জন্য তৈরি করা ডেটাসেট, সাইকিট লার্নে যেভাবে দেখেছিলাম\n",
        "\n",
        "import tensorflow_datasets as tfds\n",
        "train, test = tfds.load(\"fashion_mnist\", as_supervised=True)"
      ],
      "execution_count": 0,
      "outputs": []
    },
    {
      "cell_type": "code",
      "metadata": {
        "id": "Mx-gjOsxQL8l",
        "colab_type": "code",
        "outputId": "4f8a3f56-c8b7-488a-daf3-054fa4b4ba0c",
        "colab": {
          "base_uri": "https://localhost:8080/",
          "height": 649
        }
      },
      "source": [
        "mnist_builder = tfds.builder(\"fashion_mnist\")\n",
        "mnist_builder.download_and_prepare()\n",
        "mnist_data = mnist_builder.as_dataset(split = tfds.Split.TRAIN)\n",
        "info = mnist_builder.info\n",
        "\n",
        "# নামপাই অ্যারে দিয়ে\n",
        "np_mnist_data = tfds.as_numpy(mnist_data)\n",
        "\n",
        "print(mnist_data)\n",
        "\n",
        "print(np_mnist_data)\n",
        "\n",
        "print(info)"
      ],
      "execution_count": 0,
      "outputs": [
        {
          "output_type": "stream",
          "text": [
            "<DatasetV1Adapter shapes: {image: (28, 28, 1), label: ()}, types: {image: tf.uint8, label: tf.int64}>\n",
            "<generator object _eager_dataset_iterator at 0x7fe9482637d8>\n",
            "tfds.core.DatasetInfo(\n",
            "    name='fashion_mnist',\n",
            "    version=3.0.0,\n",
            "    description='Fashion-MNIST is a dataset of Zalando's article images consisting of a training set of 60,000 examples and a test set of 10,000 examples. Each example is a 28x28 grayscale image, associated with a label from 10 classes.',\n",
            "    homepage='https://github.com/zalandoresearch/fashion-mnist',\n",
            "    features=FeaturesDict({\n",
            "        'image': Image(shape=(28, 28, 1), dtype=tf.uint8),\n",
            "        'label': ClassLabel(shape=(), dtype=tf.int64, num_classes=10),\n",
            "    }),\n",
            "    total_num_examples=70000,\n",
            "    splits={\n",
            "        'test': 10000,\n",
            "        'train': 60000,\n",
            "    },\n",
            "    supervised_keys=('image', 'label'),\n",
            "    citation=\"\"\"@article{DBLP:journals/corr/abs-1708-07747,\n",
            "      author    = {Han Xiao and\n",
            "                   Kashif Rasul and\n",
            "                   Roland Vollgraf},\n",
            "      title     = {Fashion-MNIST: a Novel Image Dataset for Benchmarking Machine Learning\n",
            "                   Algorithms},\n",
            "      journal   = {CoRR},\n",
            "      volume    = {abs/1708.07747},\n",
            "      year      = {2017},\n",
            "      url       = {http://arxiv.org/abs/1708.07747},\n",
            "      archivePrefix = {arXiv},\n",
            "      eprint    = {1708.07747},\n",
            "      timestamp = {Mon, 13 Aug 2018 16:47:27 +0200},\n",
            "      biburl    = {https://dblp.org/rec/bib/journals/corr/abs-1708-07747},\n",
            "      bibsource = {dblp computer science bibliography, https://dblp.org}\n",
            "    }\"\"\",\n",
            "    redistribution_info=,\n",
            ")\n",
            "\n"
          ],
          "name": "stdout"
        }
      ]
    },
    {
      "cell_type": "code",
      "metadata": {
        "id": "wXMx7Fc1Qr4a",
        "colab_type": "code",
        "colab": {}
      },
      "source": [
        "# ফিচার ডিকশনারি দেখার জন্য\n",
        "for features in mnist_data.take(1):\n",
        "    image, label = features[\"image\"], features[\"label\"]"
      ],
      "execution_count": 0,
      "outputs": []
    },
    {
      "cell_type": "code",
      "metadata": {
        "id": "qrl-gf9SQ4ez",
        "colab_type": "code",
        "colab": {}
      },
      "source": [
        "# অথবা numpy দিয়ে\n",
        "for features in tfds.as_numpy(mnist_data):\n",
        "    image, label = features[\"image\"], features[\"label\"]"
      ],
      "execution_count": 0,
      "outputs": []
    },
    {
      "cell_type": "code",
      "metadata": {
        "id": "ST9rXFH8RF1V",
        "colab_type": "code",
        "colab": {}
      },
      "source": [
        "plt.imshow(image[:, :, 0].astype(np.float32), \n",
        "           cmap = plt.get_cmap(\"gray\"))\n",
        "print(\"Label: %d\" % label)"
      ],
      "execution_count": 0,
      "outputs": []
    }
  ]
}